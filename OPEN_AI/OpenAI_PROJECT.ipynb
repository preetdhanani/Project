{
 "cells": [
  {
   "cell_type": "code",
   "execution_count": 1,
   "id": "1dde17b3",
   "metadata": {},
   "outputs": [
    {
     "name": "stdout",
     "output_type": "stream",
     "text": [
      "Collecting openai (from -r requirement.txt (line 1))\n",
      "  Downloading openai-1.14.2-py3-none-any.whl.metadata (19 kB)\n",
      "Collecting python-dotenv (from -r requirement.txt (line 2))\n",
      "  Downloading python_dotenv-1.0.1-py3-none-any.whl.metadata (23 kB)\n",
      "Collecting pandas (from -r requirement.txt (line 3))\n",
      "  Downloading pandas-2.2.1-cp39-cp39-win_amd64.whl.metadata (19 kB)\n",
      "Requirement already satisfied: numpy in c:\\users\\pd846\\anaconda3\\envs\\tfpreet\\lib\\site-packages (from -r requirement.txt (line 4)) (1.26.4)\n",
      "Requirement already satisfied: anyio<5,>=3.5.0 in c:\\users\\pd846\\anaconda3\\envs\\tfpreet\\lib\\site-packages (from openai->-r requirement.txt (line 1)) (4.2.0)\n",
      "Collecting distro<2,>=1.7.0 (from openai->-r requirement.txt (line 1))\n",
      "  Downloading distro-1.9.0-py3-none-any.whl.metadata (6.8 kB)\n",
      "Collecting httpx<1,>=0.23.0 (from openai->-r requirement.txt (line 1))\n",
      "  Downloading httpx-0.27.0-py3-none-any.whl.metadata (7.2 kB)\n",
      "Collecting pydantic<3,>=1.9.0 (from openai->-r requirement.txt (line 1))\n",
      "  Downloading pydantic-2.6.4-py3-none-any.whl.metadata (85 kB)\n",
      "     ---------------------------------------- 0.0/85.1 kB ? eta -:--:--\n",
      "     ---------------------------------------- 85.1/85.1 kB 1.6 MB/s eta 0:00:00\n",
      "Requirement already satisfied: sniffio in c:\\users\\pd846\\anaconda3\\envs\\tfpreet\\lib\\site-packages (from openai->-r requirement.txt (line 1)) (1.3.0)\n",
      "Collecting tqdm>4 (from openai->-r requirement.txt (line 1))\n",
      "  Downloading tqdm-4.66.2-py3-none-any.whl.metadata (57 kB)\n",
      "     ---------------------------------------- 0.0/57.6 kB ? eta -:--:--\n",
      "     ---------------------------------------- 57.6/57.6 kB ? eta 0:00:00\n",
      "Requirement already satisfied: typing-extensions<5,>=4.7 in c:\\users\\pd846\\anaconda3\\envs\\tfpreet\\lib\\site-packages (from openai->-r requirement.txt (line 1)) (4.10.0)\n",
      "Requirement already satisfied: python-dateutil>=2.8.2 in c:\\users\\pd846\\anaconda3\\envs\\tfpreet\\lib\\site-packages (from pandas->-r requirement.txt (line 3)) (2.8.2)\n",
      "Collecting pytz>=2020.1 (from pandas->-r requirement.txt (line 3))\n",
      "  Downloading pytz-2024.1-py2.py3-none-any.whl.metadata (22 kB)\n",
      "Collecting tzdata>=2022.7 (from pandas->-r requirement.txt (line 3))\n",
      "  Downloading tzdata-2024.1-py2.py3-none-any.whl.metadata (1.4 kB)\n",
      "Requirement already satisfied: idna>=2.8 in c:\\users\\pd846\\anaconda3\\envs\\tfpreet\\lib\\site-packages (from anyio<5,>=3.5.0->openai->-r requirement.txt (line 1)) (3.4)\n",
      "Requirement already satisfied: exceptiongroup>=1.0.2 in c:\\users\\pd846\\anaconda3\\envs\\tfpreet\\lib\\site-packages (from anyio<5,>=3.5.0->openai->-r requirement.txt (line 1)) (1.2.0)\n",
      "Requirement already satisfied: certifi in c:\\users\\pd846\\anaconda3\\envs\\tfpreet\\lib\\site-packages (from httpx<1,>=0.23.0->openai->-r requirement.txt (line 1)) (2024.2.2)\n",
      "Collecting httpcore==1.* (from httpx<1,>=0.23.0->openai->-r requirement.txt (line 1))\n",
      "  Downloading httpcore-1.0.4-py3-none-any.whl.metadata (20 kB)\n",
      "Collecting h11<0.15,>=0.13 (from httpcore==1.*->httpx<1,>=0.23.0->openai->-r requirement.txt (line 1))\n",
      "  Downloading h11-0.14.0-py3-none-any.whl.metadata (8.2 kB)\n",
      "Collecting annotated-types>=0.4.0 (from pydantic<3,>=1.9.0->openai->-r requirement.txt (line 1))\n",
      "  Downloading annotated_types-0.6.0-py3-none-any.whl.metadata (12 kB)\n",
      "Collecting pydantic-core==2.16.3 (from pydantic<3,>=1.9.0->openai->-r requirement.txt (line 1))\n",
      "  Downloading pydantic_core-2.16.3-cp39-none-win_amd64.whl.metadata (6.6 kB)\n",
      "Requirement already satisfied: six>=1.5 in c:\\users\\pd846\\anaconda3\\envs\\tfpreet\\lib\\site-packages (from python-dateutil>=2.8.2->pandas->-r requirement.txt (line 3)) (1.16.0)\n",
      "Requirement already satisfied: colorama in c:\\users\\pd846\\anaconda3\\envs\\tfpreet\\lib\\site-packages (from tqdm>4->openai->-r requirement.txt (line 1)) (0.4.6)\n",
      "Downloading openai-1.14.2-py3-none-any.whl (262 kB)\n",
      "   ---------------------------------------- 0.0/262.4 kB ? eta -:--:--\n",
      "   ----------------------------- ---------- 194.6/262.4 kB 5.9 MB/s eta 0:00:01\n",
      "   ---------------------------------------- 262.4/262.4 kB 5.4 MB/s eta 0:00:00\n",
      "Downloading python_dotenv-1.0.1-py3-none-any.whl (19 kB)\n",
      "Downloading pandas-2.2.1-cp39-cp39-win_amd64.whl (11.6 MB)\n",
      "   ---------------------------------------- 0.0/11.6 MB ? eta -:--:--\n",
      "    --------------------------------------- 0.3/11.6 MB 8.3 MB/s eta 0:00:02\n",
      "   -- ------------------------------------- 0.8/11.6 MB 8.3 MB/s eta 0:00:02\n",
      "   --- ------------------------------------ 1.0/11.6 MB 7.2 MB/s eta 0:00:02\n",
      "   ----- ---------------------------------- 1.5/11.6 MB 8.0 MB/s eta 0:00:02\n",
      "   ------ --------------------------------- 1.9/11.6 MB 8.6 MB/s eta 0:00:02\n",
      "   ------- -------------------------------- 2.1/11.6 MB 7.7 MB/s eta 0:00:02\n",
      "   -------- ------------------------------- 2.5/11.6 MB 7.5 MB/s eta 0:00:02\n",
      "   ---------- ----------------------------- 2.9/11.6 MB 8.1 MB/s eta 0:00:02\n",
      "   ----------- ---------------------------- 3.3/11.6 MB 7.7 MB/s eta 0:00:02\n",
      "   ------------ --------------------------- 3.6/11.6 MB 7.8 MB/s eta 0:00:02\n",
      "   -------------- ------------------------- 4.1/11.6 MB 8.0 MB/s eta 0:00:01\n",
      "   --------------- ------------------------ 4.4/11.6 MB 8.1 MB/s eta 0:00:01\n",
      "   ---------------- ----------------------- 4.7/11.6 MB 7.9 MB/s eta 0:00:01\n",
      "   ----------------- ---------------------- 4.9/11.6 MB 7.7 MB/s eta 0:00:01\n",
      "   ----------------- ---------------------- 5.2/11.6 MB 7.5 MB/s eta 0:00:01\n",
      "   ------------------ --------------------- 5.4/11.6 MB 7.4 MB/s eta 0:00:01\n",
      "   ------------------- -------------------- 5.7/11.6 MB 7.2 MB/s eta 0:00:01\n",
      "   -------------------- ------------------- 5.9/11.6 MB 7.0 MB/s eta 0:00:01\n",
      "   --------------------- ------------------ 6.2/11.6 MB 6.9 MB/s eta 0:00:01\n",
      "   --------------------- ------------------ 6.2/11.6 MB 6.9 MB/s eta 0:00:01\n",
      "   --------------------- ------------------ 6.3/11.6 MB 6.5 MB/s eta 0:00:01\n",
      "   --------------------- ------------------ 6.3/11.6 MB 6.5 MB/s eta 0:00:01\n",
      "   ----------------------- ---------------- 6.9/11.6 MB 6.5 MB/s eta 0:00:01\n",
      "   ------------------------ --------------- 7.2/11.6 MB 6.4 MB/s eta 0:00:01\n",
      "   ------------------------- -------------- 7.5/11.6 MB 6.4 MB/s eta 0:00:01\n",
      "   --------------------------- ------------ 7.9/11.6 MB 6.5 MB/s eta 0:00:01\n",
      "   --------------------------- ------------ 8.0/11.6 MB 6.3 MB/s eta 0:00:01\n",
      "   ----------------------------- ---------- 8.4/11.6 MB 6.4 MB/s eta 0:00:01\n",
      "   ------------------------------ --------- 8.7/11.6 MB 6.5 MB/s eta 0:00:01\n",
      "   ------------------------------- -------- 9.1/11.6 MB 6.5 MB/s eta 0:00:01\n",
      "   ------------------------------- -------- 9.3/11.6 MB 6.4 MB/s eta 0:00:01\n",
      "   -------------------------------- ------- 9.5/11.6 MB 6.4 MB/s eta 0:00:01\n",
      "   --------------------------------- ------ 9.7/11.6 MB 6.3 MB/s eta 0:00:01\n",
      "   ---------------------------------- ----- 10.1/11.6 MB 6.3 MB/s eta 0:00:01\n",
      "   ----------------------------------- ---- 10.4/11.6 MB 6.3 MB/s eta 0:00:01\n",
      "   ------------------------------------- -- 10.8/11.6 MB 6.4 MB/s eta 0:00:01\n",
      "   -------------------------------------- - 11.1/11.6 MB 6.4 MB/s eta 0:00:01\n",
      "   ---------------------------------------  11.4/11.6 MB 6.3 MB/s eta 0:00:01\n",
      "   ---------------------------------------  11.6/11.6 MB 6.2 MB/s eta 0:00:01\n",
      "   ---------------------------------------- 11.6/11.6 MB 6.1 MB/s eta 0:00:00\n",
      "Downloading distro-1.9.0-py3-none-any.whl (20 kB)\n",
      "Downloading httpx-0.27.0-py3-none-any.whl (75 kB)\n",
      "   ---------------------------------------- 0.0/75.6 kB ? eta -:--:--\n",
      "   ---------------------------------------- 75.6/75.6 kB 4.4 MB/s eta 0:00:00\n",
      "Downloading httpcore-1.0.4-py3-none-any.whl (77 kB)\n",
      "   ---------------------------------------- 0.0/77.8 kB ? eta -:--:--\n",
      "   ---------------------------------------- 77.8/77.8 kB 4.2 MB/s eta 0:00:00\n",
      "Downloading pydantic-2.6.4-py3-none-any.whl (394 kB)\n",
      "   ---------------------------------------- 0.0/394.9 kB ? eta -:--:--\n",
      "   --------------------------------- ------ 327.7/394.9 kB 6.8 MB/s eta 0:00:01\n",
      "   ---------------------------------------- 394.9/394.9 kB 6.1 MB/s eta 0:00:00\n",
      "Downloading pydantic_core-2.16.3-cp39-none-win_amd64.whl (1.9 MB)\n",
      "   ---------------------------------------- 0.0/1.9 MB ? eta -:--:--\n",
      "   ----- ---------------------------------- 0.2/1.9 MB 5.0 MB/s eta 0:00:01\n",
      "   ------------- -------------------------- 0.6/1.9 MB 6.4 MB/s eta 0:00:01\n",
      "   ---------------- ----------------------- 0.8/1.9 MB 5.4 MB/s eta 0:00:01\n",
      "   ---------------------- ----------------- 1.1/1.9 MB 5.7 MB/s eta 0:00:01\n",
      "   -------------------------- ------------- 1.2/1.9 MB 5.3 MB/s eta 0:00:01\n",
      "   --------------------------------- ------ 1.6/1.9 MB 5.5 MB/s eta 0:00:01\n",
      "   ------------------------------------- -- 1.8/1.9 MB 5.4 MB/s eta 0:00:01\n",
      "   ---------------------------------------- 1.9/1.9 MB 5.4 MB/s eta 0:00:00\n",
      "Downloading pytz-2024.1-py2.py3-none-any.whl (505 kB)\n",
      "   ---------------------------------------- 0.0/505.5 kB ? eta -:--:--\n",
      "   ---------------------------------- ---- 450.6/505.5 kB 13.8 MB/s eta 0:00:01\n",
      "   --------------------------------------- 505.5/505.5 kB 10.5 MB/s eta 0:00:00\n",
      "Downloading tqdm-4.66.2-py3-none-any.whl (78 kB)\n",
      "   ---------------------------------------- 0.0/78.3 kB ? eta -:--:--\n",
      "   ---------------------------------------- 78.3/78.3 kB ? eta 0:00:00\n",
      "Downloading tzdata-2024.1-py2.py3-none-any.whl (345 kB)\n",
      "   ---------------------------------------- 0.0/345.4 kB ? eta -:--:--\n",
      "   --------------------------------------  337.9/345.4 kB 10.6 MB/s eta 0:00:01\n",
      "   --------------------------------------- 345.4/345.4 kB 10.8 MB/s eta 0:00:00\n",
      "Downloading annotated_types-0.6.0-py3-none-any.whl (12 kB)\n",
      "Using cached h11-0.14.0-py3-none-any.whl (58 kB)\n",
      "Installing collected packages: pytz, tzdata, tqdm, python-dotenv, pydantic-core, h11, distro, annotated-types, pydantic, pandas, httpcore, httpx, openai\n",
      "Successfully installed annotated-types-0.6.0 distro-1.9.0 h11-0.14.0 httpcore-1.0.4 httpx-0.27.0 openai-1.14.2 pandas-2.2.1 pydantic-2.6.4 pydantic-core-2.16.3 python-dotenv-1.0.1 pytz-2024.1 tqdm-4.66.2 tzdata-2024.1\n",
      "Note: you may need to restart the kernel to use updated packages.\n"
     ]
    }
   ],
   "source": [
    "pip install -r requirement.txt"
   ]
  },
  {
   "cell_type": "code",
   "execution_count": 7,
   "id": "168f2946",
   "metadata": {},
   "outputs": [],
   "source": [
    "import os\n",
    "from dotenv import load_dotenv\n",
    "from openai import OpenAI\n",
    "import pandas as pd\n",
    "import numpy as np"
   ]
  },
  {
   "cell_type": "code",
   "execution_count": null,
   "id": "143e8ccf",
   "metadata": {},
   "outputs": [],
   "source": []
  },
  {
   "cell_type": "code",
   "execution_count": 8,
   "id": "7b7c62e7",
   "metadata": {},
   "outputs": [],
   "source": [
    "client = OpenAI(api_key=os.environ.get(\"OPENAI_API_KEY\"))"
   ]
  },
  {
   "cell_type": "code",
   "execution_count": 24,
   "id": "e92b9034",
   "metadata": {},
   "outputs": [
    {
     "name": "stdout",
     "output_type": "stream",
     "text": [
      "ChatCompletion(id='chatcmpl-95Rbq5xjceNCorICriIdzpGMzZIES', choices=[Choice(finish_reason='stop', index=0, logprobs=None, message=ChatCompletionMessage(content=\"In the realm of code, a tale unfolds,\\nOf recursion, a story often told.\\nA function that calls itself with grace,\\nIn a never-ending, looping embrace.\\n\\nLike a mirror reflecting its own reflection,\\nRecursion delves deep, with no objection.\\nFrom base cases to infinite loops,\\nIt dances through data in graceful groups.\\n\\nEach call a journey, a path to explore,\\nWith parameters passed, and values to restore.\\nThrough layers of calls, it peels back the veil,\\nUnraveling problems, a recursive trail.\\n\\nA loop of the mind, a cycle divine,\\nIn the world of programming, it does shine.\\nA concept profound, yet elegant and light,\\nRecursion, a beacon in the coder's night.\", role='assistant', function_call=None, tool_calls=None))], created=1711084798, model='gpt-3.5-turbo-0125', object='chat.completion', system_fingerprint='fp_fa89f7a861', usage=CompletionUsage(completion_tokens=148, prompt_tokens=39, total_tokens=187))\n"
     ]
    }
   ],
   "source": [
    "chat_completion = client.chat.completions.create(\n",
    "  model=\"gpt-3.5-turbo\",\n",
    "  messages=[\n",
    "    {\"role\": \"system\", \"content\": \"You are a poetic assistant, skilled in explaining complex programming concepts with creative flair.\"},\n",
    "    {\"role\": \"user\", \"content\": \"Compose a poem that explains the concept of recursion in programming.\"}\n",
    "  ]\n",
    ")\n",
    "\n",
    "print(chat_completion)"
   ]
  },
  {
   "cell_type": "code",
   "execution_count": 25,
   "id": "61e9ca67",
   "metadata": {},
   "outputs": [
    {
     "name": "stdout",
     "output_type": "stream",
     "text": [
      "In the realm of code, a tale unfolds,\n",
      "Of recursion, a story often told.\n",
      "A function that calls itself with grace,\n",
      "In a never-ending, looping embrace.\n",
      "\n",
      "Like a mirror reflecting its own reflection,\n",
      "Recursion delves deep, with no objection.\n",
      "From base cases to infinite loops,\n",
      "It dances through data in graceful groups.\n",
      "\n",
      "Each call a journey, a path to explore,\n",
      "With parameters passed, and values to restore.\n",
      "Through layers of calls, it peels back the veil,\n",
      "Unraveling problems, a recursive trail.\n",
      "\n",
      "A loop of the mind, a cycle divine,\n",
      "In the world of programming, it does shine.\n",
      "A concept profound, yet elegant and light,\n",
      "Recursion, a beacon in the coder's night.\n"
     ]
    }
   ],
   "source": [
    "print(chat_completion.choices[0].message.content)"
   ]
  },
  {
   "cell_type": "markdown",
   "id": "d0d09109",
   "metadata": {},
   "source": [
    "    "
   ]
  },
  {
   "cell_type": "code",
   "execution_count": 33,
   "id": "43a83d55",
   "metadata": {},
   "outputs": [],
   "source": [
    "completion = client.chat.completions.create(\n",
    "    model = 'gpt-3.5-turbo',\n",
    "    messages= [\n",
    "    {\"role\": \"system\", \"content\": \"YOU ARE MATHS TEACHER\"},\n",
    "    {\"role\": \"user\", \"content\": \"WHAT IS 2 + 2\"}\n",
    "  ]\n",
    ")"
   ]
  },
  {
   "cell_type": "code",
   "execution_count": 35,
   "id": "8c963fdb",
   "metadata": {},
   "outputs": [
    {
     "name": "stdout",
     "output_type": "stream",
     "text": [
      "2 + 2 equals 4.\n"
     ]
    }
   ],
   "source": [
    "print(completion.choices[0].message.content)"
   ]
  }
 ],
 "metadata": {
  "kernelspec": {
   "display_name": "tfpreet",
   "language": "python",
   "name": "python3"
  },
  "language_info": {
   "codemirror_mode": {
    "name": "ipython",
    "version": 3
   },
   "file_extension": ".py",
   "mimetype": "text/x-python",
   "name": "python",
   "nbconvert_exporter": "python",
   "pygments_lexer": "ipython3",
   "version": "3.9.18"
  }
 },
 "nbformat": 4,
 "nbformat_minor": 5
}
