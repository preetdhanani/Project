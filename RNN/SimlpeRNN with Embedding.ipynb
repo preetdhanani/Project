{
 "cells": [
  {
   "cell_type": "code",
   "execution_count": 2,
   "id": "4b48eabf",
   "metadata": {},
   "outputs": [],
   "source": [
    "import tensorflow as tf\n",
    "from tensorflow import keras\n",
    "from tensorflow.keras import models,layers,datasets,utils\n",
    "from tensorflow.keras.preprocessing.text import Tokenizer\n",
    "from tensorflow.keras.utils import pad_sequences"
   ]
  },
  {
   "cell_type": "code",
   "execution_count": 3,
   "id": "441157ea",
   "metadata": {},
   "outputs": [],
   "source": [
    "(X_train,y_train),(X_test,y_test) = datasets.imdb.load_data()"
   ]
  },
  {
   "cell_type": "code",
   "execution_count": 4,
   "id": "677476e9",
   "metadata": {},
   "outputs": [],
   "source": [
    "X_train = pad_sequences(X_train,padding='post',maxlen=100)\n",
    "X_test = pad_sequences(X_test,padding='post',maxlen=100)"
   ]
  },
  {
   "cell_type": "code",
   "execution_count": 9,
   "id": "8fac2a78",
   "metadata": {},
   "outputs": [],
   "source": [
    "md = models.Sequential()\n",
    "md.add(layers.Embedding(10000,2))\n",
    "md.add(layers.SimpleRNN(32,input_shape=(100,1),return_sequences=False))\n",
    "md.add(layers.Dense(1,activation='sigmoid'))\n",
    "\n"
   ]
  },
  {
   "cell_type": "code",
   "execution_count": 10,
   "id": "29e5419c",
   "metadata": {},
   "outputs": [
    {
     "name": "stdout",
     "output_type": "stream",
     "text": [
      "Model: \"sequential_4\"\n",
      "_________________________________________________________________\n",
      " Layer (type)                Output Shape              Param #   \n",
      "=================================================================\n",
      " embedding_3 (Embedding)     (None, None, 2)           20000     \n",
      "                                                                 \n",
      " simple_rnn_1 (SimpleRNN)    (None, 32)                1120      \n",
      "                                                                 \n",
      " dense_1 (Dense)             (None, 1)                 33        \n",
      "                                                                 \n",
      "=================================================================\n",
      "Total params: 21,153\n",
      "Trainable params: 21,153\n",
      "Non-trainable params: 0\n",
      "_________________________________________________________________\n"
     ]
    }
   ],
   "source": [
    "md.summary()"
   ]
  },
  {
   "cell_type": "code",
   "execution_count": 12,
   "id": "3ad819d0",
   "metadata": {},
   "outputs": [],
   "source": [
    "md.compile(\n",
    "    loss='binary_crossentropy',\n",
    "    optimizer='adam',\n",
    "    metrics=['accuracy']\n",
    "    \n",
    ")"
   ]
  },
  {
   "cell_type": "code",
   "execution_count": 13,
   "id": "a1d78604",
   "metadata": {},
   "outputs": [
    {
     "name": "stdout",
     "output_type": "stream",
     "text": [
      "Epoch 1/5\n",
      "250/250 [==============================] - 26s 92ms/step - loss: 0.6882 - accuracy: 0.5333 - val_loss: 0.6360 - val_accuracy: 0.6998\n",
      "Epoch 2/5\n",
      "250/250 [==============================] - 23s 90ms/step - loss: 0.4511 - accuracy: 0.7974 - val_loss: 0.3793 - val_accuracy: 0.8342\n",
      "Epoch 3/5\n",
      "250/250 [==============================] - 22s 89ms/step - loss: 0.3084 - accuracy: 0.8737 - val_loss: 0.3696 - val_accuracy: 0.8454\n",
      "Epoch 4/5\n",
      "250/250 [==============================] - 22s 87ms/step - loss: 0.2573 - accuracy: 0.9018 - val_loss: 0.3810 - val_accuracy: 0.8332\n",
      "Epoch 5/5\n",
      "250/250 [==============================] - 22s 89ms/step - loss: 0.2275 - accuracy: 0.9158 - val_loss: 0.4275 - val_accuracy: 0.8352\n"
     ]
    },
    {
     "data": {
      "text/plain": [
       "<keras.callbacks.History at 0x27c3129edd0>"
      ]
     },
     "execution_count": 13,
     "metadata": {},
     "output_type": "execute_result"
    }
   ],
   "source": [
    "md.fit(X_train,y_train,epochs=5,batch_size=100,validation_data=(X_test,y_test))"
   ]
  },
  {
   "cell_type": "code",
   "execution_count": 14,
   "id": "5525cc2d",
   "metadata": {},
   "outputs": [
    {
     "name": "stdout",
     "output_type": "stream",
     "text": [
      "782/782 [==============================] - 14s 18ms/step - loss: 0.4275 - accuracy: 0.8352\n"
     ]
    },
    {
     "data": {
      "text/plain": [
       "[0.4275257885456085, 0.8352400064468384]"
      ]
     },
     "execution_count": 14,
     "metadata": {},
     "output_type": "execute_result"
    }
   ],
   "source": [
    "md.evaluate(X_test,y_test)"
   ]
  }
 ],
 "metadata": {
  "kernelspec": {
   "display_name": "Python 3 (ipykernel)",
   "language": "python",
   "name": "python3"
  },
  "language_info": {
   "codemirror_mode": {
    "name": "ipython",
    "version": 3
   },
   "file_extension": ".py",
   "mimetype": "text/x-python",
   "name": "python",
   "nbconvert_exporter": "python",
   "pygments_lexer": "ipython3",
   "version": "3.10.9"
  }
 },
 "nbformat": 4,
 "nbformat_minor": 5
}
